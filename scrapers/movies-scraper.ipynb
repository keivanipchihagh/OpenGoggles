{
 "cells": [
  {
   "cell_type": "markdown",
   "id": "bc7e0e06",
   "metadata": {},
   "source": [
    "# Movies Scraper"
   ]
  },
  {
   "cell_type": "code",
   "execution_count": 1,
   "id": "07d14992-65d1-415d-8a04-10ea0d8568a6",
   "metadata": {},
   "outputs": [],
   "source": [
    "import os\n",
    "import requests\n",
    "import pandas as pd\n",
    "from dotenv import load_dotenv\n",
    "\n",
    "# take environment variables from .env\n",
    "load_dotenv()\n",
    "\n",
    "# Get OMDB secret\n",
    "OMDB_SECRET = os.environ.get(\"OMDB_SECRET\")"
   ]
  },
  {
   "cell_type": "code",
   "execution_count": 2,
   "id": "21aecddb",
   "metadata": {},
   "outputs": [],
   "source": [
    "# Get the list of movies from the IMDB top 250\n",
    "top_movies = pd.read_csv(\"../data/top-250-movie-ratings.csv\").drop(columns = [\"Unnamed: 0\"])"
   ]
  },
  {
   "cell_type": "markdown",
   "id": "974dc0e0",
   "metadata": {},
   "source": [
    "### Aquire Data from the OMDB API"
   ]
  },
  {
   "cell_type": "code",
   "execution_count": 3,
   "id": "de779e84",
   "metadata": {},
   "outputs": [
    {
     "name": "stdout",
     "output_type": "stream",
     "text": [
      "66. Information for 'Oldeuboi' not found.\n",
      "143. Error requesting 'Casino'.\n",
      "182. Information for 'Relatos salvajes' not found.\n",
      "205. Information for 'The Wages of Fear' not found.\n",
      "213. Information for 'The Passion of Joan of Arc' not found.\n",
      "243. Information for 'The Nights of Cabiria' not found.\n"
     ]
    }
   ],
   "source": [
    "# Get the list of movie information as dataframes from the IMDB top 250\n",
    "movie_info_dfs = []\n",
    "\n",
    "for index, row in top_movies.iterrows():\n",
    "    \n",
    "    movie_title = row['Title'] # Get movie title\n",
    "    try:\n",
    "\n",
    "        # Get the movie information using the OMDB API\n",
    "        movie_info = requests.get('http://www.omdbapi.com/', params = {\n",
    "            'apikey': OMDB_SECRET,\n",
    "            't': movie_title\n",
    "        }).json()\n",
    "\n",
    "        if movie_info['Response'] == 'True':\n",
    "            # Convert to dataframe\n",
    "            movie_info_df = pd.json_normalize(movie_info)\n",
    "\n",
    "            # Add to list\n",
    "            movie_info_dfs.append(movie_info_df)\n",
    "        else:\n",
    "            print(f\"{index}. Information for '{movie_title}' not found.\")\n",
    "    except:\n",
    "        print(f\"{index}. Error requesting '{movie_title}'.\")"
   ]
  },
  {
   "cell_type": "markdown",
   "id": "1672ec13",
   "metadata": {},
   "source": [
    "### Preprocess the Data"
   ]
  },
  {
   "cell_type": "code",
   "execution_count": 14,
   "id": "2c112ea0",
   "metadata": {},
   "outputs": [
    {
     "name": "stderr",
     "output_type": "stream",
     "text": [
      "C:\\Users\\Keivan\\AppData\\Local\\Temp/ipykernel_20224/3861121112.py:38: FutureWarning: The default value of regex will change from True to False in a future version.\n",
      "  df['box_office'] = df['box_office'].str.replace(r'[$,]', '').astype(float)\n"
     ]
    }
   ],
   "source": [
    "# Concatenate all dataframes into one\n",
    "df = pd.concat(movie_info_dfs)\n",
    "\n",
    "# Get rotten tomatoes rating\n",
    "def get_rotten_tomatoes_rating(x):\n",
    "    try:\n",
    "        return x[1]['Value']\n",
    "    except:\n",
    "        return None\n",
    "df['rotten_tomatoes'] = df['Ratings'].apply(get_rotten_tomatoes_rating)\n",
    "\n",
    "# Remove columns we won't be needing\n",
    "df = df.drop(columns = [\n",
    "    'Response', 'totalSeasons', 'Website', 'DVD', 'imdbVotes', 'imdbID', 'Production', 'Year', 'Ratings'\n",
    "])\n",
    "\n",
    "# Replace string N/A with None\n",
    "df[df == 'N/A'] = None\n",
    "df[df == 'None'] = None\n",
    "df[df == ''] = None\n",
    "\n",
    "# Rename columns\n",
    "df.columns = [x.lower() for x in df.columns]\n",
    "df.rename(columns = {\n",
    "    'metascore': 'metacritic',\n",
    "    'boxoffice': 'box_office',\n",
    "    'imdbrating': 'imdb_rating',\n",
    "    'writer': 'writers',\n",
    "    'genre': 'genres',\n",
    "    'director': 'directors',\n",
    "    \n",
    "}, inplace = True)\n",
    "\n",
    "# Correct formattings and namings\n",
    "df['runtime'] = df['runtime'].str.replace(' min', '').astype(float)\n",
    "df['imdb_rating'] = df['imdb_rating'].astype(float)\n",
    "df['rotten_tomatoes'] = df['rotten_tomatoes'].apply(lambda x: x[:2] if x is not None else None).astype(float)\n",
    "df['box_office'] = df['box_office'].str.replace(r'[$,]', '').astype(float)\n",
    "df['released'] = pd.to_datetime(df['released'])\n",
    "df['metacritic'] = df['metacritic'].astype(float)\n",
    "df['writers'] = df['writers'].apply(lambda x: x.split(',')[0] if x is not None else None)"
   ]
  },
  {
   "cell_type": "code",
   "execution_count": 16,
   "id": "9be52ad7",
   "metadata": {},
   "outputs": [],
   "source": [
    "movie_cols = ['title', 'type', 'poster', 'writers', 'runtime', 'released', 'rated', 'country', 'language', 'imdb_rating', 'metacritic', 'rotten_tomatoes', 'box_office', 'plot']\n",
    "df[movie_cols].to_csv(\"../data/csv/movie_info.csv\", index = False)"
   ]
  }
 ],
 "metadata": {
  "kernelspec": {
   "display_name": "Python 3 (ipykernel)",
   "language": "python",
   "name": "python3"
  },
  "language_info": {
   "codemirror_mode": {
    "name": "ipython",
    "version": 3
   },
   "file_extension": ".py",
   "mimetype": "text/x-python",
   "name": "python",
   "nbconvert_exporter": "python",
   "pygments_lexer": "ipython3",
   "version": "3.9.6"
  }
 },
 "nbformat": 4,
 "nbformat_minor": 5
}
