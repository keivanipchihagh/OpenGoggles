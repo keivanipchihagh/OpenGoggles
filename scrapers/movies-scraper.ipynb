{
 "cells": [
  {
   "cell_type": "markdown",
   "id": "bc7e0e06",
   "metadata": {},
   "source": [
    "# Movies Scraper"
   ]
  },
  {
   "cell_type": "code",
   "execution_count": 67,
   "id": "07d14992-65d1-415d-8a04-10ea0d8568a6",
   "metadata": {},
   "outputs": [],
   "source": [
    "import os\n",
    "import requests\n",
    "import pandas as pd\n",
    "from dotenv import load_dotenv\n",
    "import random\n",
    "\n",
    "# take environment variables from .env\n",
    "load_dotenv()\n",
    "\n",
    "# Get OMDB secret\n",
    "OMDB_SECRET = os.environ.get(\"OMDB_SECRET\")"
   ]
  },
  {
   "cell_type": "code",
   "execution_count": 2,
   "id": "21aecddb",
   "metadata": {},
   "outputs": [],
   "source": [
    "# Get the list of movies from the IMDB top 250\n",
    "top_movies = pd.read_csv(\"../data/top-250-movie-ratings.csv\").drop(columns = [\"Unnamed: 0\"])"
   ]
  },
  {
   "cell_type": "markdown",
   "id": "974dc0e0",
   "metadata": {},
   "source": [
    "### Aquire Data from the OMDB API"
   ]
  },
  {
   "cell_type": "code",
   "execution_count": 3,
   "id": "de779e84",
   "metadata": {},
   "outputs": [
    {
     "name": "stdout",
     "output_type": "stream",
     "text": [
      "66. Information for 'Oldeuboi' not found.\n",
      "143. Error requesting 'Casino'.\n",
      "182. Information for 'Relatos salvajes' not found.\n",
      "205. Information for 'The Wages of Fear' not found.\n",
      "213. Information for 'The Passion of Joan of Arc' not found.\n",
      "243. Information for 'The Nights of Cabiria' not found.\n"
     ]
    }
   ],
   "source": [
    "# Get the list of movie information as dataframes from the IMDB top 250\n",
    "movie_info_dfs = []\n",
    "\n",
    "for index, row in top_movies.iterrows():\n",
    "    \n",
    "    movie_title = row['Title'] # Get movie title\n",
    "    try:\n",
    "\n",
    "        # Get the movie information using the OMDB API\n",
    "        movie_info = requests.get('http://www.omdbapi.com/', params = {\n",
    "            'apikey': OMDB_SECRET,\n",
    "            't': movie_title\n",
    "        }).json()\n",
    "\n",
    "        if movie_info['Response'] == 'True':\n",
    "            # Convert to dataframe\n",
    "            movie_info_df = pd.json_normalize(movie_info)\n",
    "\n",
    "            # Add to list\n",
    "            movie_info_dfs.append(movie_info_df)\n",
    "        else:\n",
    "            print(f\"{index}. Information for '{movie_title}' not found.\")\n",
    "    except:\n",
    "        print(f\"{index}. Error requesting '{movie_title}'.\")"
   ]
  },
  {
   "cell_type": "markdown",
   "id": "1672ec13",
   "metadata": {},
   "source": [
    "### Preprocess the Data"
   ]
  },
  {
   "cell_type": "code",
   "execution_count": 55,
   "id": "2c112ea0",
   "metadata": {},
   "outputs": [],
   "source": [
    "# Concatenate all dataframes into one\n",
    "df = pd.concat(movie_info_dfs)\n",
    "\n",
    "# Get rotten tomatoes rating\n",
    "def get_rotten_tomatoes_rating(x):\n",
    "    try:\n",
    "        return x[1]['Value']\n",
    "    except:\n",
    "        return None\n",
    "df['rotten_tomatoes'] = df['Ratings'].apply(get_rotten_tomatoes_rating)\n",
    "\n",
    "# Remove columns we won't be needing\n",
    "df = df.drop(columns = [\n",
    "    'Response', 'totalSeasons', 'Website', 'DVD', 'imdbVotes', 'Production', 'Year', 'Ratings'\n",
    "])\n",
    "\n",
    "# Replace string N/A with None\n",
    "df[df == 'N/A'] = None\n",
    "df[df == 'None'] = None\n",
    "df[df == ''] = None\n",
    "\n",
    "# Rename columns\n",
    "df.columns = [x.lower() for x in df.columns]\n",
    "df.rename(columns = {\n",
    "    'metascore': 'metacritic',\n",
    "    'boxoffice': 'box_office',\n",
    "    'imdbrating': 'imdb_rating',\n",
    "    'writer': 'writers',\n",
    "    'genre': 'genres',\n",
    "    'director': 'directors',\n",
    "    'imdbid': 'id'\n",
    "    \n",
    "}, inplace = True)\n",
    "\n",
    "# Correct formattings and namings\n",
    "df['runtime'] = df['runtime'].str.replace(' min', '').astype(float)\n",
    "df['imdb_rating'] = df['imdb_rating'].astype(float)\n",
    "df['rotten_tomatoes'] = df['rotten_tomatoes'].apply(lambda x: x[:2] if x is not None else None).astype(float)\n",
    "df['box_office'] = df['box_office'].str.replace(r'[$,]', '', regex = True).astype(float)\n",
    "df['released'] = pd.to_datetime(df['released'])\n",
    "df['metacritic'] = df['metacritic'].astype(float)\n",
    "df['writers'] = df['writers'].apply(lambda x: x.split(',')[0] if x is not None else None)"
   ]
  },
  {
   "cell_type": "markdown",
   "id": "e2e8ef2e",
   "metadata": {},
   "source": [
    "### Movies"
   ]
  },
  {
   "cell_type": "code",
   "execution_count": 56,
   "id": "9be52ad7",
   "metadata": {},
   "outputs": [],
   "source": [
    "df.reset_index(inplace = True, drop = True)\n",
    "\n",
    "movie_cols = ['id', 'title', 'type', 'poster', 'writers', 'runtime', 'released', 'rated', 'country', 'language', 'imdb_rating', 'metacritic', 'rotten_tomatoes', 'box_office', 'plot']\n",
    "df[movie_cols].to_csv(\"../data/csv/movies.csv\", index = False)"
   ]
  },
  {
   "cell_type": "markdown",
   "id": "9abb7218",
   "metadata": {},
   "source": [
    "### People"
   ]
  },
  {
   "cell_type": "code",
   "execution_count": 226,
   "id": "78db6d0f",
   "metadata": {},
   "outputs": [],
   "source": [
    "people = []\n",
    "people_id = 0\n",
    "\n",
    "def get_people(names):\n",
    "    global people_id\n",
    "\n",
    "    for name in names.split(', '):\n",
    "        people.append(( people_id, name, random.choice([0, 1]), None, random.choice(['American', 'Canadian']), None ))\n",
    "        people_id += 1\n",
    "\n",
    "_ = df.loc[~df['actors'].isna(), 'actors'].apply(get_people)\n",
    "_ = df.loc[~df['directors'].isna(), 'directors'].apply(get_people)\n",
    "people = pd.DataFrame(people, columns = ['id', 'full_name', 'is_married', 'email', 'nationality', 'birth_date'])\n",
    "\n",
    "people.to_csv('../data/csv/people.csv', index = False)"
   ]
  },
  {
   "cell_type": "markdown",
   "id": "29000b6b",
   "metadata": {},
   "source": [
    "### Actors"
   ]
  },
  {
   "cell_type": "code",
   "execution_count": 227,
   "id": "008987e5",
   "metadata": {},
   "outputs": [],
   "source": [
    "casts = []\n",
    "\n",
    "for index, row in df.iterrows():\n",
    "    if row['actors'] is not None:\n",
    "        for name in  row['actors'].split(', '):\n",
    "            person = people.loc[people['full_name'] == name, 'id']\n",
    "\n",
    "            if person is not None:\n",
    "                casts.append((\n",
    "                    person.values[0],\n",
    "                    row['id'],\n",
    "                    name,\n",
    "                    None,\n",
    "                ))\n",
    "\n",
    "casts = pd.DataFrame(casts, columns = ['person_id', 'movie_id', 'role', 'contract'])\n",
    "casts.to_csv('../data/csv/casts.csv', index = False)"
   ]
  },
  {
   "cell_type": "markdown",
   "id": "3accf3f1",
   "metadata": {},
   "source": [
    "### Directors"
   ]
  },
  {
   "cell_type": "code",
   "execution_count": 228,
   "id": "5cc91640",
   "metadata": {},
   "outputs": [],
   "source": [
    "directors = []\n",
    "\n",
    "for index, row in df.iterrows():\n",
    "    if row['directors'] is not None:\n",
    "        for name in  row['directors'].split(', '):\n",
    "            person = people.loc[people['full_name'] == name, 'id']\n",
    "\n",
    "            if person is not None:\n",
    "                directors.append((\n",
    "                    person.values[0],\n",
    "                    row['id'],\n",
    "                    None,\n",
    "                ))\n",
    "\n",
    "directors = pd.DataFrame(directors, columns = ['person_id', 'movie_id', 'contract'])\n",
    "directors.to_csv('../data/csv/directors.csv', index = False)"
   ]
  },
  {
   "cell_type": "markdown",
   "id": "120245dc",
   "metadata": {},
   "source": [
    "### Genres"
   ]
  },
  {
   "cell_type": "code",
   "execution_count": 244,
   "id": "19f8eec6",
   "metadata": {},
   "outputs": [],
   "source": [
    "genres = pd.DataFrame(\n",
    "    set(', '.join(df['genres'].values).split(\", \")),\n",
    "    columns = ['genre']\n",
    ")\n",
    "genres['id'] = genres.index\n",
    "genres.to_csv('../data/csv/genres.csv', index = False)"
   ]
  },
  {
   "cell_type": "markdown",
   "id": "8aa8af8d",
   "metadata": {},
   "source": [
    "### Movie Genres"
   ]
  },
  {
   "cell_type": "code",
   "execution_count": 266,
   "id": "3efce912",
   "metadata": {},
   "outputs": [],
   "source": [
    "movies_genres = []\n",
    "\n",
    "for index, row in df.iterrows():\n",
    "    for genre in row['genres'].split(\", \"):\n",
    "\n",
    "        if genre in genres['genre'].values:\n",
    "            movies_genres.append((\n",
    "                row.id,\n",
    "                genres.loc[genres['genre'] == genre, 'id'].values[0]\n",
    "            ))        \n",
    "\n",
    "movies_genres = pd.DataFrame(movies_genres, columns = ['movie_id', 'genre_id'])\n",
    "movies_genres.to_csv('../data/csv/movies_genres.csv', index = False)"
   ]
  },
  {
   "cell_type": "markdown",
   "id": "3d4da555",
   "metadata": {},
   "source": [
    "### Awards"
   ]
  },
  {
   "cell_type": "code",
   "execution_count": 268,
   "id": "a92c9582",
   "metadata": {},
   "outputs": [
    {
     "data": {
      "text/plain": [
       "0      Nominated for 7 Oscars. 21 wins & 43 nominatio...\n",
       "1           Won 3 Oscars. 31 wins & 30 nominations total\n",
       "2           Won 6 Oscars. 17 wins & 20 nominations total\n",
       "3         Won 2 Oscars. 159 wins & 163 nominations total\n",
       "4      Nominated for 3 Oscars. 17 wins & 13 nominatio...\n",
       "                             ...                        \n",
       "239         Won 2 Oscars. 16 wins & 17 nominations total\n",
       "240    Nominated for 3 Oscars. 19 wins & 29 nominatio...\n",
       "241                                                1 win\n",
       "242                             17 wins & 45 nominations\n",
       "243                             20 wins & 15 nominations\n",
       "Name: awards, Length: 244, dtype: object"
      ]
     },
     "execution_count": 268,
     "metadata": {},
     "output_type": "execute_result"
    }
   ],
   "source": [
    "df['awards']"
   ]
  }
 ],
 "metadata": {
  "kernelspec": {
   "display_name": "Python 3 (ipykernel)",
   "language": "python",
   "name": "python3"
  },
  "language_info": {
   "codemirror_mode": {
    "name": "ipython",
    "version": 3
   },
   "file_extension": ".py",
   "mimetype": "text/x-python",
   "name": "python",
   "nbconvert_exporter": "python",
   "pygments_lexer": "ipython3",
   "version": "3.9.6"
  }
 },
 "nbformat": 4,
 "nbformat_minor": 5
}
